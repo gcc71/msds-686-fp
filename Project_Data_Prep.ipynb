{
 "cells": [
  {
   "cell_type": "code",
   "execution_count": 6,
   "id": "8f0b6f1e-85a9-420d-aac2-a50081d29136",
   "metadata": {},
   "outputs": [],
   "source": [
    "import pandas as pd\n",
    "df = pd.read_csv('SD_Vulnerability_Dataset.csv')\n"
   ]
  },
  {
   "cell_type": "code",
   "execution_count": 7,
   "id": "aecff767-69fc-4d37-976d-752ace17ad6b",
   "metadata": {},
   "outputs": [
    {
     "data": {
      "text/plain": [
       "Index(['index', 'CVE-ID', 'CVSS-V3', 'CVSS-V2', 'SEVERITY', 'DESCRIPTION',\n",
       "       'CWE-ID', 'CWE-NAME'],\n",
       "      dtype='object')"
      ]
     },
     "execution_count": 7,
     "metadata": {},
     "output_type": "execute_result"
    }
   ],
   "source": [
    "df.columns"
   ]
  },
  {
   "cell_type": "code",
   "execution_count": 8,
   "id": "7ac22f89-3a9f-469a-8c5d-48433e72f5ed",
   "metadata": {},
   "outputs": [
    {
     "data": {
      "text/plain": [
       "(56729, 8)"
      ]
     },
     "execution_count": 8,
     "metadata": {},
     "output_type": "execute_result"
    }
   ],
   "source": [
    "df.shape"
   ]
  },
  {
   "cell_type": "code",
   "execution_count": 9,
   "id": "07a641e2-5c86-44ae-b7f2-03960a039be9",
   "metadata": {},
   "outputs": [
    {
     "name": "stdout",
     "output_type": "stream",
     "text": [
      "56729\n"
     ]
    }
   ],
   "source": [
    "#ensure there is only 1 unique ID, it should total rows as above (419)\n",
    "total = 0\n",
    "for count in df['CWE-ID'].value_counts():\n",
    "    total+=count\n",
    "print(total)"
   ]
  },
  {
   "cell_type": "code",
   "execution_count": 13,
   "id": "bc12478b-b85c-4767-b943-e48fde19da37",
   "metadata": {},
   "outputs": [
    {
     "data": {
      "text/plain": [
       "0"
      ]
     },
     "execution_count": 13,
     "metadata": {},
     "output_type": "execute_result"
    }
   ],
   "source": [
    "df['DESCRIPTION'].isnull().sum()"
   ]
  },
  {
   "cell_type": "code",
   "execution_count": 12,
   "id": "4c3b4961-0842-4fa3-a5cc-c01751b8598e",
   "metadata": {},
   "outputs": [
    {
     "data": {
      "text/plain": [
       "0"
      ]
     },
     "execution_count": 12,
     "metadata": {},
     "output_type": "execute_result"
    }
   ],
   "source": [
    "df['CWE-ID'].isnull().sum()"
   ]
  },
  {
   "cell_type": "code",
   "execution_count": 157,
   "id": "c796c2eb-8d1e-4ad9-afb2-b2edfc6a1c1b",
   "metadata": {},
   "outputs": [],
   "source": [
    "# df['CWE_text_description'] = df['Name'] + df['Description']"
   ]
  },
  {
   "cell_type": "code",
   "execution_count": 14,
   "id": "2b643548-94c5-459f-ab86-31fd53449997",
   "metadata": {},
   "outputs": [],
   "source": [
    "# df.CWE_text_description"
   ]
  },
  {
   "cell_type": "code",
   "execution_count": 15,
   "id": "c36ebc50-fd2d-4475-b2b0-37bf0b6e3927",
   "metadata": {},
   "outputs": [
    {
     "data": {
      "text/html": [
       "<div>\n",
       "<style scoped>\n",
       "    .dataframe tbody tr th:only-of-type {\n",
       "        vertical-align: middle;\n",
       "    }\n",
       "\n",
       "    .dataframe tbody tr th {\n",
       "        vertical-align: top;\n",
       "    }\n",
       "\n",
       "    .dataframe thead th {\n",
       "        text-align: right;\n",
       "    }\n",
       "</style>\n",
       "<table border=\"1\" class=\"dataframe\">\n",
       "  <thead>\n",
       "    <tr style=\"text-align: right;\">\n",
       "      <th></th>\n",
       "      <th>index</th>\n",
       "      <th>CVE-ID</th>\n",
       "      <th>CVSS-V3</th>\n",
       "      <th>CVSS-V2</th>\n",
       "      <th>SEVERITY</th>\n",
       "      <th>DESCRIPTION</th>\n",
       "      <th>CWE-ID</th>\n",
       "      <th>CWE-NAME</th>\n",
       "    </tr>\n",
       "  </thead>\n",
       "  <tbody>\n",
       "    <tr>\n",
       "      <th>0</th>\n",
       "      <td>1</td>\n",
       "      <td>CVE-1999-0199</td>\n",
       "      <td>9.8</td>\n",
       "      <td>7.5</td>\n",
       "      <td>CRITICAL</td>\n",
       "      <td>manual/search.texi in the GNU C Library (aka g...</td>\n",
       "      <td>CWE-252</td>\n",
       "      <td>Unchecked Return Value</td>\n",
       "    </tr>\n",
       "    <tr>\n",
       "      <th>1</th>\n",
       "      <td>2</td>\n",
       "      <td>CVE-1999-0284</td>\n",
       "      <td>NaN</td>\n",
       "      <td>7.5</td>\n",
       "      <td>HIGH</td>\n",
       "      <td>Denial of service to NT mail servers including...</td>\n",
       "      <td>CWE-120</td>\n",
       "      <td>Buffer Copy without Checking Size of Input ('C...</td>\n",
       "    </tr>\n",
       "    <tr>\n",
       "      <th>2</th>\n",
       "      <td>3</td>\n",
       "      <td>CVE-1999-0385</td>\n",
       "      <td>NaN</td>\n",
       "      <td>10.0</td>\n",
       "      <td>HIGH</td>\n",
       "      <td>The LDAP bind function in Exchange 5.5 has a b...</td>\n",
       "      <td>CWE-120</td>\n",
       "      <td>Buffer Copy without Checking Size of Input ('C...</td>\n",
       "    </tr>\n",
       "    <tr>\n",
       "      <th>3</th>\n",
       "      <td>4</td>\n",
       "      <td>CVE-1999-0491</td>\n",
       "      <td>NaN</td>\n",
       "      <td>4.6</td>\n",
       "      <td>MEDIUM</td>\n",
       "      <td>The prompt parsing in bash allows a local user...</td>\n",
       "      <td>CWE-94</td>\n",
       "      <td>Improper Control of Generation of Code ('Code ...</td>\n",
       "    </tr>\n",
       "    <tr>\n",
       "      <th>4</th>\n",
       "      <td>5</td>\n",
       "      <td>CVE-1999-0509</td>\n",
       "      <td>NaN</td>\n",
       "      <td>10.0</td>\n",
       "      <td>HIGH</td>\n",
       "      <td>Perl, sh, csh, or other shell interpreters are...</td>\n",
       "      <td>CWE-94</td>\n",
       "      <td>Improper Control of Generation of Code ('Code ...</td>\n",
       "    </tr>\n",
       "    <tr>\n",
       "      <th>...</th>\n",
       "      <td>...</td>\n",
       "      <td>...</td>\n",
       "      <td>...</td>\n",
       "      <td>...</td>\n",
       "      <td>...</td>\n",
       "      <td>...</td>\n",
       "      <td>...</td>\n",
       "      <td>...</td>\n",
       "    </tr>\n",
       "    <tr>\n",
       "      <th>56724</th>\n",
       "      <td>56725</td>\n",
       "      <td>CVE-2021-45267</td>\n",
       "      <td>5.5</td>\n",
       "      <td>4.3</td>\n",
       "      <td>MEDIUM</td>\n",
       "      <td>An invalid memory address dereference vulnerab...</td>\n",
       "      <td>CWE-476</td>\n",
       "      <td>NULL Pointer Dereference</td>\n",
       "    </tr>\n",
       "    <tr>\n",
       "      <th>56725</th>\n",
       "      <td>56726</td>\n",
       "      <td>CVE-2021-45297</td>\n",
       "      <td>5.5</td>\n",
       "      <td>4.3</td>\n",
       "      <td>MEDIUM</td>\n",
       "      <td>An infinite loop vulnerability exists in Gpac ...</td>\n",
       "      <td>CWE-835</td>\n",
       "      <td>Loop with Unreachable Exit Condition ('Infinit...</td>\n",
       "    </tr>\n",
       "    <tr>\n",
       "      <th>56726</th>\n",
       "      <td>56727</td>\n",
       "      <td>CVE-2021-45472</td>\n",
       "      <td>6.1</td>\n",
       "      <td>4.3</td>\n",
       "      <td>MEDIUM</td>\n",
       "      <td>In MediaWiki through 1.37, XSS can occur in Wi...</td>\n",
       "      <td>CWE-79</td>\n",
       "      <td>Improper Neutralization of Input During Web Pa...</td>\n",
       "    </tr>\n",
       "    <tr>\n",
       "      <th>56727</th>\n",
       "      <td>56728</td>\n",
       "      <td>CVE-2021-45473</td>\n",
       "      <td>6.1</td>\n",
       "      <td>4.3</td>\n",
       "      <td>MEDIUM</td>\n",
       "      <td>In MediaWiki through 1.37, Wikibase item descr...</td>\n",
       "      <td>CWE-79</td>\n",
       "      <td>Improper Neutralization of Input During Web Pa...</td>\n",
       "    </tr>\n",
       "    <tr>\n",
       "      <th>56728</th>\n",
       "      <td>56729</td>\n",
       "      <td>CVE-2021-45474</td>\n",
       "      <td>6.1</td>\n",
       "      <td>4.3</td>\n",
       "      <td>MEDIUM</td>\n",
       "      <td>In MediaWiki through 1.37, the Special:ImportF...</td>\n",
       "      <td>CWE-79</td>\n",
       "      <td>Improper Neutralization of Input During Web Pa...</td>\n",
       "    </tr>\n",
       "  </tbody>\n",
       "</table>\n",
       "<p>56729 rows × 8 columns</p>\n",
       "</div>"
      ],
      "text/plain": [
       "       index          CVE-ID  CVSS-V3  CVSS-V2  SEVERITY  \\\n",
       "0          1   CVE-1999-0199      9.8      7.5  CRITICAL   \n",
       "1          2   CVE-1999-0284      NaN      7.5      HIGH   \n",
       "2          3   CVE-1999-0385      NaN     10.0      HIGH   \n",
       "3          4   CVE-1999-0491      NaN      4.6    MEDIUM   \n",
       "4          5   CVE-1999-0509      NaN     10.0      HIGH   \n",
       "...      ...             ...      ...      ...       ...   \n",
       "56724  56725  CVE-2021-45267      5.5      4.3    MEDIUM   \n",
       "56725  56726  CVE-2021-45297      5.5      4.3    MEDIUM   \n",
       "56726  56727  CVE-2021-45472      6.1      4.3    MEDIUM   \n",
       "56727  56728  CVE-2021-45473      6.1      4.3    MEDIUM   \n",
       "56728  56729  CVE-2021-45474      6.1      4.3    MEDIUM   \n",
       "\n",
       "                                             DESCRIPTION   CWE-ID  \\\n",
       "0      manual/search.texi in the GNU C Library (aka g...  CWE-252   \n",
       "1      Denial of service to NT mail servers including...  CWE-120   \n",
       "2      The LDAP bind function in Exchange 5.5 has a b...  CWE-120   \n",
       "3      The prompt parsing in bash allows a local user...   CWE-94   \n",
       "4      Perl, sh, csh, or other shell interpreters are...   CWE-94   \n",
       "...                                                  ...      ...   \n",
       "56724  An invalid memory address dereference vulnerab...  CWE-476   \n",
       "56725  An infinite loop vulnerability exists in Gpac ...  CWE-835   \n",
       "56726  In MediaWiki through 1.37, XSS can occur in Wi...   CWE-79   \n",
       "56727  In MediaWiki through 1.37, Wikibase item descr...   CWE-79   \n",
       "56728  In MediaWiki through 1.37, the Special:ImportF...   CWE-79   \n",
       "\n",
       "                                                CWE-NAME  \n",
       "0                                 Unchecked Return Value  \n",
       "1      Buffer Copy without Checking Size of Input ('C...  \n",
       "2      Buffer Copy without Checking Size of Input ('C...  \n",
       "3      Improper Control of Generation of Code ('Code ...  \n",
       "4      Improper Control of Generation of Code ('Code ...  \n",
       "...                                                  ...  \n",
       "56724                           NULL Pointer Dereference  \n",
       "56725  Loop with Unreachable Exit Condition ('Infinit...  \n",
       "56726  Improper Neutralization of Input During Web Pa...  \n",
       "56727  Improper Neutralization of Input During Web Pa...  \n",
       "56728  Improper Neutralization of Input During Web Pa...  \n",
       "\n",
       "[56729 rows x 8 columns]"
      ]
     },
     "execution_count": 15,
     "metadata": {},
     "output_type": "execute_result"
    }
   ],
   "source": [
    "df"
   ]
  },
  {
   "cell_type": "code",
   "execution_count": 16,
   "id": "9c8f1c96-e491-482c-9b62-612869608fe8",
   "metadata": {},
   "outputs": [
    {
     "data": {
      "text/plain": [
       "CWE-ID\n",
       "CWE-79     17438\n",
       "CWE-89      6992\n",
       "CWE-787     5211\n",
       "CWE-125     3866\n",
       "CWE-94      2719\n",
       "           ...  \n",
       "CWE-183        1\n",
       "CWE-112        1\n",
       "CWE-115        1\n",
       "CWE-334        1\n",
       "CWE-242        1\n",
       "Name: count, Length: 150, dtype: int64"
      ]
     },
     "execution_count": 16,
     "metadata": {},
     "output_type": "execute_result"
    }
   ],
   "source": [
    "df['CWE-ID'].value_counts()"
   ]
  },
  {
   "cell_type": "code",
   "execution_count": 18,
   "id": "e06ba174-1997-42af-bc51-d0a3df88ddd6",
   "metadata": {},
   "outputs": [
    {
     "data": {
      "text/html": [
       "<div>\n",
       "<style scoped>\n",
       "    .dataframe tbody tr th:only-of-type {\n",
       "        vertical-align: middle;\n",
       "    }\n",
       "\n",
       "    .dataframe tbody tr th {\n",
       "        vertical-align: top;\n",
       "    }\n",
       "\n",
       "    .dataframe thead th {\n",
       "        text-align: right;\n",
       "    }\n",
       "</style>\n",
       "<table border=\"1\" class=\"dataframe\">\n",
       "  <thead>\n",
       "    <tr style=\"text-align: right;\">\n",
       "      <th></th>\n",
       "      <th>index</th>\n",
       "      <th>CVE-ID</th>\n",
       "      <th>CVSS-V3</th>\n",
       "      <th>CVSS-V2</th>\n",
       "      <th>SEVERITY</th>\n",
       "      <th>DESCRIPTION</th>\n",
       "      <th>CWE-ID</th>\n",
       "      <th>CWE-NAME</th>\n",
       "    </tr>\n",
       "  </thead>\n",
       "  <tbody>\n",
       "    <tr>\n",
       "      <th>3</th>\n",
       "      <td>4</td>\n",
       "      <td>CVE-1999-0491</td>\n",
       "      <td>NaN</td>\n",
       "      <td>4.6</td>\n",
       "      <td>MEDIUM</td>\n",
       "      <td>The prompt parsing in bash allows a local user...</td>\n",
       "      <td>CWE-94</td>\n",
       "      <td>Improper Control of Generation of Code ('Code ...</td>\n",
       "    </tr>\n",
       "    <tr>\n",
       "      <th>4</th>\n",
       "      <td>5</td>\n",
       "      <td>CVE-1999-0509</td>\n",
       "      <td>NaN</td>\n",
       "      <td>10.0</td>\n",
       "      <td>HIGH</td>\n",
       "      <td>Perl, sh, csh, or other shell interpreters are...</td>\n",
       "      <td>CWE-94</td>\n",
       "      <td>Improper Control of Generation of Code ('Code ...</td>\n",
       "    </tr>\n",
       "    <tr>\n",
       "      <th>5</th>\n",
       "      <td>6</td>\n",
       "      <td>CVE-1999-0702</td>\n",
       "      <td>NaN</td>\n",
       "      <td>10.0</td>\n",
       "      <td>HIGH</td>\n",
       "      <td>Internet Explorer 5.0 and 5.01 allows remote a...</td>\n",
       "      <td>CWE-94</td>\n",
       "      <td>Improper Control of Generation of Code ('Code ...</td>\n",
       "    </tr>\n",
       "    <tr>\n",
       "      <th>7</th>\n",
       "      <td>8</td>\n",
       "      <td>CVE-1999-0891</td>\n",
       "      <td>NaN</td>\n",
       "      <td>5.0</td>\n",
       "      <td>MEDIUM</td>\n",
       "      <td>The \"download behavior\" in Internet Explorer 5...</td>\n",
       "      <td>CWE-94</td>\n",
       "      <td>Improper Control of Generation of Code ('Code ...</td>\n",
       "    </tr>\n",
       "    <tr>\n",
       "      <th>12</th>\n",
       "      <td>13</td>\n",
       "      <td>CVE-2000-0155</td>\n",
       "      <td>NaN</td>\n",
       "      <td>7.2</td>\n",
       "      <td>HIGH</td>\n",
       "      <td>Windows NT Autorun executes the autorun.inf fi...</td>\n",
       "      <td>CWE-94</td>\n",
       "      <td>Improper Control of Generation of Code ('Code ...</td>\n",
       "    </tr>\n",
       "    <tr>\n",
       "      <th>...</th>\n",
       "      <td>...</td>\n",
       "      <td>...</td>\n",
       "      <td>...</td>\n",
       "      <td>...</td>\n",
       "      <td>...</td>\n",
       "      <td>...</td>\n",
       "      <td>...</td>\n",
       "      <td>...</td>\n",
       "    </tr>\n",
       "    <tr>\n",
       "      <th>56554</th>\n",
       "      <td>56555</td>\n",
       "      <td>CVE-2021-43899</td>\n",
       "      <td>9.8</td>\n",
       "      <td>7.5</td>\n",
       "      <td>CRITICAL</td>\n",
       "      <td>Microsoft 4K Wireless Display Adapter Remote C...</td>\n",
       "      <td>CWE-94</td>\n",
       "      <td>Improper Control of Generation of Code ('Code ...</td>\n",
       "    </tr>\n",
       "    <tr>\n",
       "      <th>56624</th>\n",
       "      <td>56625</td>\n",
       "      <td>CVE-2021-44231</td>\n",
       "      <td>9.8</td>\n",
       "      <td>7.5</td>\n",
       "      <td>CRITICAL</td>\n",
       "      <td>Internally used text extraction reports allow ...</td>\n",
       "      <td>CWE-94</td>\n",
       "      <td>Improper Control of Generation of Code ('Code ...</td>\n",
       "    </tr>\n",
       "    <tr>\n",
       "      <th>56625</th>\n",
       "      <td>56626</td>\n",
       "      <td>CVE-2021-44235</td>\n",
       "      <td>6.7</td>\n",
       "      <td>7.2</td>\n",
       "      <td>MEDIUM</td>\n",
       "      <td>Two methods of a utility class in SAP NetWeave...</td>\n",
       "      <td>CWE-94</td>\n",
       "      <td>Improper Control of Generation of Code ('Code ...</td>\n",
       "    </tr>\n",
       "    <tr>\n",
       "      <th>56663</th>\n",
       "      <td>56664</td>\n",
       "      <td>CVE-2021-44529</td>\n",
       "      <td>9.8</td>\n",
       "      <td>7.5</td>\n",
       "      <td>CRITICAL</td>\n",
       "      <td>A code injection vulnerability in the Ivanti E...</td>\n",
       "      <td>CWE-94</td>\n",
       "      <td>Improper Control of Generation of Code ('Code ...</td>\n",
       "    </tr>\n",
       "    <tr>\n",
       "      <th>56672</th>\n",
       "      <td>56673</td>\n",
       "      <td>CVE-2021-44657</td>\n",
       "      <td>8.8</td>\n",
       "      <td>9.0</td>\n",
       "      <td>HIGH</td>\n",
       "      <td>In StackStorm versions prior to 3.6.0, the jin...</td>\n",
       "      <td>CWE-94</td>\n",
       "      <td>Improper Control of Generation of Code ('Code ...</td>\n",
       "    </tr>\n",
       "  </tbody>\n",
       "</table>\n",
       "<p>2719 rows × 8 columns</p>\n",
       "</div>"
      ],
      "text/plain": [
       "       index          CVE-ID  CVSS-V3  CVSS-V2  SEVERITY  \\\n",
       "3          4   CVE-1999-0491      NaN      4.6    MEDIUM   \n",
       "4          5   CVE-1999-0509      NaN     10.0      HIGH   \n",
       "5          6   CVE-1999-0702      NaN     10.0      HIGH   \n",
       "7          8   CVE-1999-0891      NaN      5.0    MEDIUM   \n",
       "12        13   CVE-2000-0155      NaN      7.2      HIGH   \n",
       "...      ...             ...      ...      ...       ...   \n",
       "56554  56555  CVE-2021-43899      9.8      7.5  CRITICAL   \n",
       "56624  56625  CVE-2021-44231      9.8      7.5  CRITICAL   \n",
       "56625  56626  CVE-2021-44235      6.7      7.2    MEDIUM   \n",
       "56663  56664  CVE-2021-44529      9.8      7.5  CRITICAL   \n",
       "56672  56673  CVE-2021-44657      8.8      9.0      HIGH   \n",
       "\n",
       "                                             DESCRIPTION  CWE-ID  \\\n",
       "3      The prompt parsing in bash allows a local user...  CWE-94   \n",
       "4      Perl, sh, csh, or other shell interpreters are...  CWE-94   \n",
       "5      Internet Explorer 5.0 and 5.01 allows remote a...  CWE-94   \n",
       "7      The \"download behavior\" in Internet Explorer 5...  CWE-94   \n",
       "12     Windows NT Autorun executes the autorun.inf fi...  CWE-94   \n",
       "...                                                  ...     ...   \n",
       "56554  Microsoft 4K Wireless Display Adapter Remote C...  CWE-94   \n",
       "56624  Internally used text extraction reports allow ...  CWE-94   \n",
       "56625  Two methods of a utility class in SAP NetWeave...  CWE-94   \n",
       "56663  A code injection vulnerability in the Ivanti E...  CWE-94   \n",
       "56672  In StackStorm versions prior to 3.6.0, the jin...  CWE-94   \n",
       "\n",
       "                                                CWE-NAME  \n",
       "3      Improper Control of Generation of Code ('Code ...  \n",
       "4      Improper Control of Generation of Code ('Code ...  \n",
       "5      Improper Control of Generation of Code ('Code ...  \n",
       "7      Improper Control of Generation of Code ('Code ...  \n",
       "12     Improper Control of Generation of Code ('Code ...  \n",
       "...                                                  ...  \n",
       "56554  Improper Control of Generation of Code ('Code ...  \n",
       "56624  Improper Control of Generation of Code ('Code ...  \n",
       "56625  Improper Control of Generation of Code ('Code ...  \n",
       "56663  Improper Control of Generation of Code ('Code ...  \n",
       "56672  Improper Control of Generation of Code ('Code ...  \n",
       "\n",
       "[2719 rows x 8 columns]"
      ]
     },
     "execution_count": 18,
     "metadata": {},
     "output_type": "execute_result"
    }
   ],
   "source": [
    "df[df['CWE-ID'] =='CWE-94']"
   ]
  },
  {
   "cell_type": "code",
   "execution_count": 19,
   "id": "a4410dcb-4c86-4011-9f5f-40d3eb267170",
   "metadata": {},
   "outputs": [
    {
     "data": {
      "text/html": [
       "<div>\n",
       "<style scoped>\n",
       "    .dataframe tbody tr th:only-of-type {\n",
       "        vertical-align: middle;\n",
       "    }\n",
       "\n",
       "    .dataframe tbody tr th {\n",
       "        vertical-align: top;\n",
       "    }\n",
       "\n",
       "    .dataframe thead th {\n",
       "        text-align: right;\n",
       "    }\n",
       "</style>\n",
       "<table border=\"1\" class=\"dataframe\">\n",
       "  <thead>\n",
       "    <tr style=\"text-align: right;\">\n",
       "      <th></th>\n",
       "      <th>index</th>\n",
       "      <th>CVE-ID</th>\n",
       "      <th>CVSS-V3</th>\n",
       "      <th>CVSS-V2</th>\n",
       "      <th>SEVERITY</th>\n",
       "      <th>DESCRIPTION</th>\n",
       "      <th>CWE-ID</th>\n",
       "      <th>CWE-NAME</th>\n",
       "    </tr>\n",
       "  </thead>\n",
       "  <tbody>\n",
       "    <tr>\n",
       "      <th>7986</th>\n",
       "      <td>7987</td>\n",
       "      <td>CVE-2010-4577</td>\n",
       "      <td>NaN</td>\n",
       "      <td>5.0</td>\n",
       "      <td>MEDIUM</td>\n",
       "      <td>The CSSParser::parseFontFaceSrc function in We...</td>\n",
       "      <td>CWE-125</td>\n",
       "      <td>Out-of-bounds Read</td>\n",
       "    </tr>\n",
       "    <tr>\n",
       "      <th>8460</th>\n",
       "      <td>8461</td>\n",
       "      <td>CVE-2011-0984</td>\n",
       "      <td>NaN</td>\n",
       "      <td>5.0</td>\n",
       "      <td>MEDIUM</td>\n",
       "      <td>Google Chrome before 9.0.597.94 does not prope...</td>\n",
       "      <td>CWE-125</td>\n",
       "      <td>Out-of-bounds Read</td>\n",
       "    </tr>\n",
       "    <tr>\n",
       "      <th>8495</th>\n",
       "      <td>8496</td>\n",
       "      <td>CVE-2011-1113</td>\n",
       "      <td>NaN</td>\n",
       "      <td>5.0</td>\n",
       "      <td>MEDIUM</td>\n",
       "      <td>Google Chrome before 9.0.597.107 on 64-bit Lin...</td>\n",
       "      <td>CWE-125</td>\n",
       "      <td>Out-of-bounds Read</td>\n",
       "    </tr>\n",
       "    <tr>\n",
       "      <th>8496</th>\n",
       "      <td>8497</td>\n",
       "      <td>CVE-2011-1120</td>\n",
       "      <td>NaN</td>\n",
       "      <td>5.0</td>\n",
       "      <td>MEDIUM</td>\n",
       "      <td>The WebGL implementation in Google Chrome befo...</td>\n",
       "      <td>CWE-125</td>\n",
       "      <td>Out-of-bounds Read</td>\n",
       "    </tr>\n",
       "    <tr>\n",
       "      <th>8498</th>\n",
       "      <td>8499</td>\n",
       "      <td>CVE-2011-1122</td>\n",
       "      <td>NaN</td>\n",
       "      <td>5.0</td>\n",
       "      <td>MEDIUM</td>\n",
       "      <td>The WebGL implementation in Google Chrome befo...</td>\n",
       "      <td>CWE-125</td>\n",
       "      <td>Out-of-bounds Read</td>\n",
       "    </tr>\n",
       "    <tr>\n",
       "      <th>...</th>\n",
       "      <td>...</td>\n",
       "      <td>...</td>\n",
       "      <td>...</td>\n",
       "      <td>...</td>\n",
       "      <td>...</td>\n",
       "      <td>...</td>\n",
       "      <td>...</td>\n",
       "      <td>...</td>\n",
       "    </tr>\n",
       "    <tr>\n",
       "      <th>56683</th>\n",
       "      <td>56684</td>\n",
       "      <td>CVE-2021-44698</td>\n",
       "      <td>3.3</td>\n",
       "      <td>4.3</td>\n",
       "      <td>LOW</td>\n",
       "      <td>Adobe Audition versions 14.4 (and earlier), an...</td>\n",
       "      <td>CWE-125</td>\n",
       "      <td>Out-of-bounds Read</td>\n",
       "    </tr>\n",
       "    <tr>\n",
       "      <th>56684</th>\n",
       "      <td>56685</td>\n",
       "      <td>CVE-2021-44698</td>\n",
       "      <td>3.3</td>\n",
       "      <td>4.3</td>\n",
       "      <td>LOW</td>\n",
       "      <td>Adobe Audition versions 14.4 (and earlier), an...</td>\n",
       "      <td>CWE-125</td>\n",
       "      <td>Out-of-bounds Read</td>\n",
       "    </tr>\n",
       "    <tr>\n",
       "      <th>56685</th>\n",
       "      <td>56686</td>\n",
       "      <td>CVE-2021-44699</td>\n",
       "      <td>3.3</td>\n",
       "      <td>4.3</td>\n",
       "      <td>LOW</td>\n",
       "      <td>Adobe Audition versions 14.4 (and earlier), an...</td>\n",
       "      <td>CWE-125</td>\n",
       "      <td>Out-of-bounds Read</td>\n",
       "    </tr>\n",
       "    <tr>\n",
       "      <th>56691</th>\n",
       "      <td>56692</td>\n",
       "      <td>CVE-2021-44859</td>\n",
       "      <td>7.8</td>\n",
       "      <td>6.8</td>\n",
       "      <td>HIGH</td>\n",
       "      <td>An out-of-bounds read vulnerability exists whe...</td>\n",
       "      <td>CWE-125</td>\n",
       "      <td>Out-of-bounds Read</td>\n",
       "    </tr>\n",
       "    <tr>\n",
       "      <th>56692</th>\n",
       "      <td>56693</td>\n",
       "      <td>CVE-2021-44860</td>\n",
       "      <td>7.8</td>\n",
       "      <td>6.8</td>\n",
       "      <td>HIGH</td>\n",
       "      <td>An out-of-bounds read vulnerability exists whe...</td>\n",
       "      <td>CWE-125</td>\n",
       "      <td>Out-of-bounds Read</td>\n",
       "    </tr>\n",
       "  </tbody>\n",
       "</table>\n",
       "<p>3866 rows × 8 columns</p>\n",
       "</div>"
      ],
      "text/plain": [
       "       index          CVE-ID  CVSS-V3  CVSS-V2 SEVERITY  \\\n",
       "7986    7987   CVE-2010-4577      NaN      5.0   MEDIUM   \n",
       "8460    8461   CVE-2011-0984      NaN      5.0   MEDIUM   \n",
       "8495    8496   CVE-2011-1113      NaN      5.0   MEDIUM   \n",
       "8496    8497   CVE-2011-1120      NaN      5.0   MEDIUM   \n",
       "8498    8499   CVE-2011-1122      NaN      5.0   MEDIUM   \n",
       "...      ...             ...      ...      ...      ...   \n",
       "56683  56684  CVE-2021-44698      3.3      4.3      LOW   \n",
       "56684  56685  CVE-2021-44698      3.3      4.3      LOW   \n",
       "56685  56686  CVE-2021-44699      3.3      4.3      LOW   \n",
       "56691  56692  CVE-2021-44859      7.8      6.8     HIGH   \n",
       "56692  56693  CVE-2021-44860      7.8      6.8     HIGH   \n",
       "\n",
       "                                             DESCRIPTION   CWE-ID  \\\n",
       "7986   The CSSParser::parseFontFaceSrc function in We...  CWE-125   \n",
       "8460   Google Chrome before 9.0.597.94 does not prope...  CWE-125   \n",
       "8495   Google Chrome before 9.0.597.107 on 64-bit Lin...  CWE-125   \n",
       "8496   The WebGL implementation in Google Chrome befo...  CWE-125   \n",
       "8498   The WebGL implementation in Google Chrome befo...  CWE-125   \n",
       "...                                                  ...      ...   \n",
       "56683  Adobe Audition versions 14.4 (and earlier), an...  CWE-125   \n",
       "56684  Adobe Audition versions 14.4 (and earlier), an...  CWE-125   \n",
       "56685  Adobe Audition versions 14.4 (and earlier), an...  CWE-125   \n",
       "56691  An out-of-bounds read vulnerability exists whe...  CWE-125   \n",
       "56692  An out-of-bounds read vulnerability exists whe...  CWE-125   \n",
       "\n",
       "                 CWE-NAME  \n",
       "7986   Out-of-bounds Read  \n",
       "8460   Out-of-bounds Read  \n",
       "8495   Out-of-bounds Read  \n",
       "8496   Out-of-bounds Read  \n",
       "8498   Out-of-bounds Read  \n",
       "...                   ...  \n",
       "56683  Out-of-bounds Read  \n",
       "56684  Out-of-bounds Read  \n",
       "56685  Out-of-bounds Read  \n",
       "56691  Out-of-bounds Read  \n",
       "56692  Out-of-bounds Read  \n",
       "\n",
       "[3866 rows x 8 columns]"
      ]
     },
     "execution_count": 19,
     "metadata": {},
     "output_type": "execute_result"
    }
   ],
   "source": [
    "df[df['CWE-ID'] =='CWE-125']"
   ]
  },
  {
   "cell_type": "markdown",
   "id": "74a7ce2f-3da9-4f51-92e0-4c51cd872917",
   "metadata": {},
   "source": [
    "I will select two CWE categories to perform this experiment. I have selected CWE-94 and CWE-125 based on similarity in counts and similarity in description (CWE-94 deals with parsing and CWE-125 deals with reading)."
   ]
  },
  {
   "cell_type": "code",
   "execution_count": 26,
   "id": "6cf95d14-17ef-4d2c-bb21-f33461446afe",
   "metadata": {},
   "outputs": [],
   "source": [
    "target_df = df[(df['CWE-ID'] =='CWE-125') | (df['CWE-ID'] == 'CWE-94')]"
   ]
  },
  {
   "cell_type": "code",
   "execution_count": 28,
   "id": "9911e360-9904-4411-8f6b-e6f1de8f26c9",
   "metadata": {},
   "outputs": [
    {
     "data": {
      "text/plain": [
       "CWE-ID\n",
       "CWE-125    3866\n",
       "CWE-94     2719\n",
       "Name: count, dtype: int64"
      ]
     },
     "execution_count": 28,
     "metadata": {},
     "output_type": "execute_result"
    }
   ],
   "source": [
    "target_df['CWE-ID'].value_counts()"
   ]
  },
  {
   "cell_type": "code",
   "execution_count": 29,
   "id": "04c852a1-ce2f-4f29-a391-68efbd125a7a",
   "metadata": {},
   "outputs": [
    {
     "data": {
      "text/plain": [
       "(6585, 8)"
      ]
     },
     "execution_count": 29,
     "metadata": {},
     "output_type": "execute_result"
    }
   ],
   "source": [
    "target_df.shape"
   ]
  },
  {
   "cell_type": "markdown",
   "id": "23234704-bbc7-4f98-b361-cab6963c6915",
   "metadata": {},
   "source": [
    "## Prep Data for Binary Classification"
   ]
  },
  {
   "cell_type": "code",
   "execution_count": 31,
   "id": "c4618217-b940-44c7-b090-0b2906bd5c57",
   "metadata": {},
   "outputs": [],
   "source": [
    "def is_94(cwe_id):\n",
    "    if '94' in cwe_id:\n",
    "        return 1\n",
    "    else:\n",
    "        return 0"
   ]
  },
  {
   "cell_type": "code",
   "execution_count": 32,
   "id": "32a98dca-6fea-4300-b6f9-1d6ec90386ec",
   "metadata": {},
   "outputs": [
    {
     "name": "stderr",
     "output_type": "stream",
     "text": [
      "C:\\Users\\genem\\AppData\\Local\\Temp\\ipykernel_24960\\1263692058.py:1: SettingWithCopyWarning: \n",
      "A value is trying to be set on a copy of a slice from a DataFrame.\n",
      "Try using .loc[row_indexer,col_indexer] = value instead\n",
      "\n",
      "See the caveats in the documentation: https://pandas.pydata.org/pandas-docs/stable/user_guide/indexing.html#returning-a-view-versus-a-copy\n",
      "  target_df['CWE_CLASS'] = target_df['CWE-ID'].apply(lambda x: is_94(x))\n"
     ]
    }
   ],
   "source": [
    "target_df['CWE_CLASS'] = target_df['CWE-ID'].apply(lambda x: is_94(x))"
   ]
  },
  {
   "cell_type": "code",
   "execution_count": 34,
   "id": "6a5dbc98-0e1b-4f7a-aff0-d4b365b35510",
   "metadata": {},
   "outputs": [
    {
     "data": {
      "text/plain": [
       "CWE_CLASS\n",
       "0    3866\n",
       "1    2719\n",
       "Name: count, dtype: int64"
      ]
     },
     "execution_count": 34,
     "metadata": {},
     "output_type": "execute_result"
    }
   ],
   "source": [
    "#check to see if new column values match counts for each class\n",
    "target_df['CWE_CLASS'].value_counts()"
   ]
  },
  {
   "cell_type": "code",
   "execution_count": 37,
   "id": "8cec6bd2-0004-411a-9108-a9dde16234a3",
   "metadata": {},
   "outputs": [
    {
     "data": {
      "text/plain": [
       "Index(['index', 'CVE-ID', 'CVSS-V3', 'CVSS-V2', 'SEVERITY', 'DESCRIPTION',\n",
       "       'CWE-ID', 'CWE-NAME', 'CWE_CLASS'],\n",
       "      dtype='object')"
      ]
     },
     "execution_count": 37,
     "metadata": {},
     "output_type": "execute_result"
    }
   ],
   "source": [
    "target_df.columns"
   ]
  },
  {
   "cell_type": "code",
   "execution_count": 38,
   "id": "796f3c26-ff92-4ece-8859-b15040b76e78",
   "metadata": {},
   "outputs": [],
   "source": [
    "target_df = target_df.drop(['index', 'CVE-ID', 'CVSS-V3',\n",
    "                            'CVSS-V2', 'SEVERITY', 'CWE-ID', 'CWE-NAME'], axis=1)"
   ]
  },
  {
   "cell_type": "code",
   "execution_count": 39,
   "id": "b752ebe9-d051-4cff-91c0-696500ea0319",
   "metadata": {},
   "outputs": [
    {
     "data": {
      "text/html": [
       "<div>\n",
       "<style scoped>\n",
       "    .dataframe tbody tr th:only-of-type {\n",
       "        vertical-align: middle;\n",
       "    }\n",
       "\n",
       "    .dataframe tbody tr th {\n",
       "        vertical-align: top;\n",
       "    }\n",
       "\n",
       "    .dataframe thead th {\n",
       "        text-align: right;\n",
       "    }\n",
       "</style>\n",
       "<table border=\"1\" class=\"dataframe\">\n",
       "  <thead>\n",
       "    <tr style=\"text-align: right;\">\n",
       "      <th></th>\n",
       "      <th>DESCRIPTION</th>\n",
       "      <th>CWE_CLASS</th>\n",
       "    </tr>\n",
       "  </thead>\n",
       "  <tbody>\n",
       "    <tr>\n",
       "      <th>3</th>\n",
       "      <td>The prompt parsing in bash allows a local user...</td>\n",
       "      <td>1</td>\n",
       "    </tr>\n",
       "    <tr>\n",
       "      <th>4</th>\n",
       "      <td>Perl, sh, csh, or other shell interpreters are...</td>\n",
       "      <td>1</td>\n",
       "    </tr>\n",
       "    <tr>\n",
       "      <th>5</th>\n",
       "      <td>Internet Explorer 5.0 and 5.01 allows remote a...</td>\n",
       "      <td>1</td>\n",
       "    </tr>\n",
       "    <tr>\n",
       "      <th>7</th>\n",
       "      <td>The \"download behavior\" in Internet Explorer 5...</td>\n",
       "      <td>1</td>\n",
       "    </tr>\n",
       "    <tr>\n",
       "      <th>12</th>\n",
       "      <td>Windows NT Autorun executes the autorun.inf fi...</td>\n",
       "      <td>1</td>\n",
       "    </tr>\n",
       "    <tr>\n",
       "      <th>...</th>\n",
       "      <td>...</td>\n",
       "      <td>...</td>\n",
       "    </tr>\n",
       "    <tr>\n",
       "      <th>56683</th>\n",
       "      <td>Adobe Audition versions 14.4 (and earlier), an...</td>\n",
       "      <td>0</td>\n",
       "    </tr>\n",
       "    <tr>\n",
       "      <th>56684</th>\n",
       "      <td>Adobe Audition versions 14.4 (and earlier), an...</td>\n",
       "      <td>0</td>\n",
       "    </tr>\n",
       "    <tr>\n",
       "      <th>56685</th>\n",
       "      <td>Adobe Audition versions 14.4 (and earlier), an...</td>\n",
       "      <td>0</td>\n",
       "    </tr>\n",
       "    <tr>\n",
       "      <th>56691</th>\n",
       "      <td>An out-of-bounds read vulnerability exists whe...</td>\n",
       "      <td>0</td>\n",
       "    </tr>\n",
       "    <tr>\n",
       "      <th>56692</th>\n",
       "      <td>An out-of-bounds read vulnerability exists whe...</td>\n",
       "      <td>0</td>\n",
       "    </tr>\n",
       "  </tbody>\n",
       "</table>\n",
       "<p>6585 rows × 2 columns</p>\n",
       "</div>"
      ],
      "text/plain": [
       "                                             DESCRIPTION  CWE_CLASS\n",
       "3      The prompt parsing in bash allows a local user...          1\n",
       "4      Perl, sh, csh, or other shell interpreters are...          1\n",
       "5      Internet Explorer 5.0 and 5.01 allows remote a...          1\n",
       "7      The \"download behavior\" in Internet Explorer 5...          1\n",
       "12     Windows NT Autorun executes the autorun.inf fi...          1\n",
       "...                                                  ...        ...\n",
       "56683  Adobe Audition versions 14.4 (and earlier), an...          0\n",
       "56684  Adobe Audition versions 14.4 (and earlier), an...          0\n",
       "56685  Adobe Audition versions 14.4 (and earlier), an...          0\n",
       "56691  An out-of-bounds read vulnerability exists whe...          0\n",
       "56692  An out-of-bounds read vulnerability exists whe...          0\n",
       "\n",
       "[6585 rows x 2 columns]"
      ]
     },
     "execution_count": 39,
     "metadata": {},
     "output_type": "execute_result"
    }
   ],
   "source": [
    "target_df"
   ]
  },
  {
   "cell_type": "markdown",
   "id": "3d7f1ee4-7bc4-44aa-9b7a-e6050109cfec",
   "metadata": {},
   "source": [
    "## Clean Text"
   ]
  },
  {
   "cell_type": "code",
   "execution_count": 42,
   "id": "78108f0c-2fbe-4a45-b583-fd6af340489d",
   "metadata": {},
   "outputs": [],
   "source": [
    "import spacy\n",
    "import en_core_web_lg\n",
    "nlp = en_core_web_lg.load()"
   ]
  },
  {
   "cell_type": "code",
   "execution_count": 43,
   "id": "1ff67ee8-3f05-4173-98b9-f6621df6df19",
   "metadata": {},
   "outputs": [],
   "source": [
    "def cleanerText(dirty_text):\n",
    "    # first process the text with spacy; this does a lot of things we aren't using right here\n",
    "    nlp_string = nlp(dirty_text)\n",
    "    lowercase_words = []\n",
    "    for word in nlp_string:\n",
    "        if word.is_alpha and not word.is_stop:\n",
    "            if not word.is_punct:\n",
    "                lowercase_words.append(word.lower_)\n",
    "    return nlp(' '.join(lowercase_words))"
   ]
  },
  {
   "cell_type": "code",
   "execution_count": 44,
   "id": "8c34fbce-cc6f-4a6c-b649-517837874b38",
   "metadata": {},
   "outputs": [],
   "source": [
    "target_df['CLEAN_DESCRIPTION'] = target_df['DESCRIPTION'].apply(lambda x: cleanerText(x))"
   ]
  },
  {
   "cell_type": "code",
   "execution_count": 46,
   "id": "a957d1c2-f263-4529-b9e7-6acd07d7a6e2",
   "metadata": {},
   "outputs": [
    {
     "data": {
      "text/plain": [
       "Index(['DESCRIPTION', 'CWE_CLASS', 'CLEAN_DESCRIPTION'], dtype='object')"
      ]
     },
     "execution_count": 46,
     "metadata": {},
     "output_type": "execute_result"
    }
   ],
   "source": [
    "target_df.columns"
   ]
  },
  {
   "cell_type": "code",
   "execution_count": 47,
   "id": "e473ac37-05af-496e-877c-09df60e4e596",
   "metadata": {},
   "outputs": [],
   "source": [
    "project_df = target_df.drop(['DESCRIPTION'], axis=1)"
   ]
  },
  {
   "cell_type": "code",
   "execution_count": 48,
   "id": "9fe120c5-4b08-4788-9ff7-b5d3d201382d",
   "metadata": {},
   "outputs": [
    {
     "data": {
      "text/html": [
       "<div>\n",
       "<style scoped>\n",
       "    .dataframe tbody tr th:only-of-type {\n",
       "        vertical-align: middle;\n",
       "    }\n",
       "\n",
       "    .dataframe tbody tr th {\n",
       "        vertical-align: top;\n",
       "    }\n",
       "\n",
       "    .dataframe thead th {\n",
       "        text-align: right;\n",
       "    }\n",
       "</style>\n",
       "<table border=\"1\" class=\"dataframe\">\n",
       "  <thead>\n",
       "    <tr style=\"text-align: right;\">\n",
       "      <th></th>\n",
       "      <th>CWE_CLASS</th>\n",
       "      <th>CLEAN_DESCRIPTION</th>\n",
       "    </tr>\n",
       "  </thead>\n",
       "  <tbody>\n",
       "    <tr>\n",
       "      <th>3</th>\n",
       "      <td>1</td>\n",
       "      <td>(prompt, parsing, bash, allows, local, user, e...</td>\n",
       "    </tr>\n",
       "    <tr>\n",
       "      <th>4</th>\n",
       "      <td>1</td>\n",
       "      <td>(perl, sh, csh, shell, interpreters, installed...</td>\n",
       "    </tr>\n",
       "    <tr>\n",
       "      <th>5</th>\n",
       "      <td>1</td>\n",
       "      <td>(internet, explorer, allows, remote, attackers...</td>\n",
       "    </tr>\n",
       "    <tr>\n",
       "      <th>7</th>\n",
       "      <td>1</td>\n",
       "      <td>(download, behavior, internet, explorer, allow...</td>\n",
       "    </tr>\n",
       "    <tr>\n",
       "      <th>12</th>\n",
       "      <td>1</td>\n",
       "      <td>(windows, nt, autorun, executes, file, non, re...</td>\n",
       "    </tr>\n",
       "    <tr>\n",
       "      <th>...</th>\n",
       "      <td>...</td>\n",
       "      <td>...</td>\n",
       "    </tr>\n",
       "    <tr>\n",
       "      <th>56683</th>\n",
       "      <td>0</td>\n",
       "      <td>(adobe, audition, versions, earlier, affected,...</td>\n",
       "    </tr>\n",
       "    <tr>\n",
       "      <th>56684</th>\n",
       "      <td>0</td>\n",
       "      <td>(adobe, audition, versions, earlier, affected,...</td>\n",
       "    </tr>\n",
       "    <tr>\n",
       "      <th>56685</th>\n",
       "      <td>0</td>\n",
       "      <td>(adobe, audition, versions, earlier, affected,...</td>\n",
       "    </tr>\n",
       "    <tr>\n",
       "      <th>56691</th>\n",
       "      <td>0</td>\n",
       "      <td>(bounds, read, vulnerability, exists, reading,...</td>\n",
       "    </tr>\n",
       "    <tr>\n",
       "      <th>56692</th>\n",
       "      <td>0</td>\n",
       "      <td>(bounds, read, vulnerability, exists, reading,...</td>\n",
       "    </tr>\n",
       "  </tbody>\n",
       "</table>\n",
       "<p>6585 rows × 2 columns</p>\n",
       "</div>"
      ],
      "text/plain": [
       "       CWE_CLASS                                  CLEAN_DESCRIPTION\n",
       "3              1  (prompt, parsing, bash, allows, local, user, e...\n",
       "4              1  (perl, sh, csh, shell, interpreters, installed...\n",
       "5              1  (internet, explorer, allows, remote, attackers...\n",
       "7              1  (download, behavior, internet, explorer, allow...\n",
       "12             1  (windows, nt, autorun, executes, file, non, re...\n",
       "...          ...                                                ...\n",
       "56683          0  (adobe, audition, versions, earlier, affected,...\n",
       "56684          0  (adobe, audition, versions, earlier, affected,...\n",
       "56685          0  (adobe, audition, versions, earlier, affected,...\n",
       "56691          0  (bounds, read, vulnerability, exists, reading,...\n",
       "56692          0  (bounds, read, vulnerability, exists, reading,...\n",
       "\n",
       "[6585 rows x 2 columns]"
      ]
     },
     "execution_count": 48,
     "metadata": {},
     "output_type": "execute_result"
    }
   ],
   "source": [
    "project_df"
   ]
  },
  {
   "cell_type": "code",
   "execution_count": 49,
   "id": "e45a7123-4ee3-4dc0-bfa9-1e4779d8eba9",
   "metadata": {},
   "outputs": [],
   "source": [
    "#save the dataset\n",
    "project_df.to_csv('project_df.csv')"
   ]
  },
  {
   "cell_type": "code",
   "execution_count": 50,
   "id": "7795f1ae-0f61-41e2-8b55-cedc5aea7719",
   "metadata": {},
   "outputs": [],
   "source": [
    "#save the dataset\n",
    "target_df.to_csv('target_df.csv')"
   ]
  },
  {
   "cell_type": "markdown",
   "id": "186bf888-8820-402b-9208-165d52473d15",
   "metadata": {},
   "source": [
    "## Create Training and Test Split"
   ]
  },
  {
   "cell_type": "code",
   "execution_count": 64,
   "id": "f49cd6b6-519f-480a-9f17-71afae3002c4",
   "metadata": {},
   "outputs": [],
   "source": [
    "from sklearn.model_selection import train_test_split"
   ]
  },
  {
   "cell_type": "code",
   "execution_count": 59,
   "id": "9726d141-4e01-4b7a-8ffa-37c7f0f31429",
   "metadata": {},
   "outputs": [],
   "source": [
    "des = project_df.CLEAN_DESCRIPTION.values\n",
    "labels = project_df.CWE_CLASS.values"
   ]
  },
  {
   "cell_type": "code",
   "execution_count": 61,
   "id": "ca849e60-3800-4a9b-989b-235cd7c6939a",
   "metadata": {},
   "outputs": [
    {
     "name": "stdout",
     "output_type": "stream",
     "text": [
      "(6585,)\n",
      "(6585,)\n"
     ]
    }
   ],
   "source": [
    "print(des.shape)\n",
    "print(labels.shape)"
   ]
  },
  {
   "cell_type": "code",
   "execution_count": 58,
   "id": "bbab338d-f17e-4ea7-9b20-d3c008920dd6",
   "metadata": {},
   "outputs": [
    {
     "name": "stdout",
     "output_type": "stream",
     "text": [
      "[prompt parsing bash allows local user execute commands user creating directory command execute\n",
      " perl sh csh shell interpreters installed cgi bin directory www site allows remote attackers execute arbitrary commands\n",
      " internet explorer allows remote attackers modify execute files import export favorites feature aka importexportfavorites vulnerability\n",
      " ...\n",
      " adobe audition versions earlier affected bounds read vulnerability lead disclosure sensitive memory attacker leverage vulnerability bypass mitigations aslr exploitation issue requires user interaction victim open malicious file\n",
      " bounds read vulnerability exists reading tga file open design alliance drawings sdk specific issue exists loading tga files unchecked input data crafted tga file leads bounds read attacker leverage vulnerability execute code context current process\n",
      " bounds read vulnerability exists reading tif file open design alliance drawings sdk specific issue exists loading tif files unchecked input data crafted tif file leads bounds read attacker leverage vulnerability execute code context current process]\n"
     ]
    }
   ],
   "source": [
    "print(des)"
   ]
  },
  {
   "cell_type": "code",
   "execution_count": 63,
   "id": "ad2e84d8-a25f-4801-a55f-e3c713b05d9e",
   "metadata": {},
   "outputs": [
    {
     "name": "stdout",
     "output_type": "stream",
     "text": [
      "[1 1 1 ... 0 0 0]\n"
     ]
    }
   ],
   "source": [
    "print(labels)"
   ]
  },
  {
   "cell_type": "code",
   "execution_count": 66,
   "id": "56cb1204-fd9f-4d60-a7b4-f774562eb271",
   "metadata": {},
   "outputs": [],
   "source": [
    "train_des, test_des, train_label, test_label = train_test_split(des,labels)"
   ]
  },
  {
   "cell_type": "code",
   "execution_count": 69,
   "id": "6aae46ba-f9da-47ae-b818-c6d30416a7b8",
   "metadata": {},
   "outputs": [
    {
     "name": "stdout",
     "output_type": "stream",
     "text": [
      "(4938,)\n",
      "(1647,)\n",
      "(4938,)\n",
      "(1647,)\n"
     ]
    }
   ],
   "source": [
    "print(train_des.shape)\n",
    "print(test_des.shape)\n",
    "print(train_label.shape)\n",
    "print(test_label.shape)"
   ]
  },
  {
   "cell_type": "markdown",
   "id": "75194398-dc98-40eb-abef-e42fd148c776",
   "metadata": {},
   "source": [
    "# Reference\n",
    "1) Singh, Y. V. (2021, August 18). Classification using Pre-trained Bert Model (Transfer Learning). Medium. https://medium.com/@yashvardhanvs/classification-using-pre-trained-bert-model-transfer-learning-2d50f404ed4c\n",
    "\n"
   ]
  },
  {
   "cell_type": "code",
   "execution_count": 70,
   "id": "689fc92a-d586-457e-84c1-ce058b37781f",
   "metadata": {},
   "outputs": [
    {
     "name": "stdout",
     "output_type": "stream",
     "text": [
      "2\n"
     ]
    }
   ],
   "source": [
    "x = max(1,2)\n",
    "print(x)"
   ]
  },
  {
   "cell_type": "code",
   "execution_count": null,
   "id": "bfd31154-006d-47a6-877e-aa0983af3e3e",
   "metadata": {},
   "outputs": [],
   "source": []
  }
 ],
 "metadata": {
  "kernelspec": {
   "display_name": "Python 3 (ipykernel)",
   "language": "python",
   "name": "python3"
  },
  "language_info": {
   "codemirror_mode": {
    "name": "ipython",
    "version": 3
   },
   "file_extension": ".py",
   "mimetype": "text/x-python",
   "name": "python",
   "nbconvert_exporter": "python",
   "pygments_lexer": "ipython3",
   "version": "3.10.12"
  }
 },
 "nbformat": 4,
 "nbformat_minor": 5
}
